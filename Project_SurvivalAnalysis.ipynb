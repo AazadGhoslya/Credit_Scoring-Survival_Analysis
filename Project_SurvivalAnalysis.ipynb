{
 "cells": [
  {
   "cell_type": "code",
   "execution_count": 198,
   "metadata": {},
   "outputs": [
    {
     "data": {
      "text/plain": [
       "'JAIHANUMANJI'"
      ]
     },
     "execution_count": 198,
     "metadata": {},
     "output_type": "execute_result"
    }
   ],
   "source": [
    "'JAIHANUMANJI'"
   ]
  },
  {
   "cell_type": "markdown",
   "metadata": {},
   "source": [
    "# Credit Scoring Individual Project"
   ]
  },
  {
   "cell_type": "markdown",
   "metadata": {},
   "source": [
    "#### Submitted To : Professor Philipp Borchert\n",
    "#### Submitted By : Aazad Ghoslya"
   ]
  },
  {
   "cell_type": "markdown",
   "metadata": {},
   "source": [
    "## Survival Analysis\n",
    "- Survival analysis is a field of statistics that focuses on analyzing the expected time until a certain event happens. Originally, this branch of statistics developed around measuring the effects of medical treatment on patients’ survival in clinical trials.\n",
    "- However, survival analysis is not restricted to investigating deaths and can be just as well used for determining the time until a machine fails or — what may at first sound a bit counterintuitively— a user of a certain platform converts to a premium service. That is possible because survival analysis focuses on the time until an event happens, without actually defining the event as a negative one."
   ]
  },
  {
   "cell_type": "code",
   "execution_count": 199,
   "metadata": {},
   "outputs": [],
   "source": [
    "import pandas as pd\n",
    "import numpy as np\n",
    "import lifelines\n",
    "import matplotlib.pyplot as plt"
   ]
  },
  {
   "cell_type": "code",
   "execution_count": 200,
   "metadata": {},
   "outputs": [],
   "source": [
    "data = pd.read_csv(r\"C:\\Users\\aghoslya\\Desktop\\Credit Scoring\\Assignment2022_Data\\mortgage.csv\")"
   ]
  },
  {
   "cell_type": "markdown",
   "metadata": {},
   "source": [
    "#### Expolre the data"
   ]
  },
  {
   "cell_type": "code",
   "execution_count": 201,
   "metadata": {},
   "outputs": [
    {
     "data": {
      "text/html": [
       "<div>\n",
       "<style scoped>\n",
       "    .dataframe tbody tr th:only-of-type {\n",
       "        vertical-align: middle;\n",
       "    }\n",
       "\n",
       "    .dataframe tbody tr th {\n",
       "        vertical-align: top;\n",
       "    }\n",
       "\n",
       "    .dataframe thead th {\n",
       "        text-align: right;\n",
       "    }\n",
       "</style>\n",
       "<table border=\"1\" class=\"dataframe\">\n",
       "  <thead>\n",
       "    <tr style=\"text-align: right;\">\n",
       "      <th></th>\n",
       "      <th>id</th>\n",
       "      <th>time</th>\n",
       "      <th>orig_time</th>\n",
       "      <th>first_time</th>\n",
       "      <th>mat_time</th>\n",
       "      <th>balance_time</th>\n",
       "      <th>LTV_time</th>\n",
       "      <th>interest_rate_time</th>\n",
       "      <th>hpi_time</th>\n",
       "      <th>gdp_time</th>\n",
       "      <th>...</th>\n",
       "      <th>REtype_SF_orig_time</th>\n",
       "      <th>investor_orig_time</th>\n",
       "      <th>balance_orig_time</th>\n",
       "      <th>FICO_orig_time</th>\n",
       "      <th>LTV_orig_time</th>\n",
       "      <th>Interest_Rate_orig_time</th>\n",
       "      <th>hpi_orig_time</th>\n",
       "      <th>default_time</th>\n",
       "      <th>payoff_time</th>\n",
       "      <th>status_time</th>\n",
       "    </tr>\n",
       "  </thead>\n",
       "  <tbody>\n",
       "    <tr>\n",
       "      <th>0</th>\n",
       "      <td>1</td>\n",
       "      <td>25</td>\n",
       "      <td>-7</td>\n",
       "      <td>25</td>\n",
       "      <td>113</td>\n",
       "      <td>41303.42</td>\n",
       "      <td>24.498336</td>\n",
       "      <td>9.2</td>\n",
       "      <td>226.29</td>\n",
       "      <td>2.899137</td>\n",
       "      <td>...</td>\n",
       "      <td>1</td>\n",
       "      <td>0</td>\n",
       "      <td>45000.0</td>\n",
       "      <td>715</td>\n",
       "      <td>69.4</td>\n",
       "      <td>9.2</td>\n",
       "      <td>87.03</td>\n",
       "      <td>0</td>\n",
       "      <td>0</td>\n",
       "      <td>0</td>\n",
       "    </tr>\n",
       "    <tr>\n",
       "      <th>1</th>\n",
       "      <td>1</td>\n",
       "      <td>26</td>\n",
       "      <td>-7</td>\n",
       "      <td>25</td>\n",
       "      <td>113</td>\n",
       "      <td>41061.95</td>\n",
       "      <td>24.483867</td>\n",
       "      <td>9.2</td>\n",
       "      <td>225.10</td>\n",
       "      <td>2.151365</td>\n",
       "      <td>...</td>\n",
       "      <td>1</td>\n",
       "      <td>0</td>\n",
       "      <td>45000.0</td>\n",
       "      <td>715</td>\n",
       "      <td>69.4</td>\n",
       "      <td>9.2</td>\n",
       "      <td>87.03</td>\n",
       "      <td>0</td>\n",
       "      <td>0</td>\n",
       "      <td>0</td>\n",
       "    </tr>\n",
       "    <tr>\n",
       "      <th>2</th>\n",
       "      <td>1</td>\n",
       "      <td>27</td>\n",
       "      <td>-7</td>\n",
       "      <td>25</td>\n",
       "      <td>113</td>\n",
       "      <td>40804.42</td>\n",
       "      <td>24.626795</td>\n",
       "      <td>9.2</td>\n",
       "      <td>222.39</td>\n",
       "      <td>2.361722</td>\n",
       "      <td>...</td>\n",
       "      <td>1</td>\n",
       "      <td>0</td>\n",
       "      <td>45000.0</td>\n",
       "      <td>715</td>\n",
       "      <td>69.4</td>\n",
       "      <td>9.2</td>\n",
       "      <td>87.03</td>\n",
       "      <td>0</td>\n",
       "      <td>0</td>\n",
       "      <td>0</td>\n",
       "    </tr>\n",
       "    <tr>\n",
       "      <th>3</th>\n",
       "      <td>1</td>\n",
       "      <td>28</td>\n",
       "      <td>-7</td>\n",
       "      <td>25</td>\n",
       "      <td>113</td>\n",
       "      <td>40483.89</td>\n",
       "      <td>24.735883</td>\n",
       "      <td>9.2</td>\n",
       "      <td>219.67</td>\n",
       "      <td>1.229172</td>\n",
       "      <td>...</td>\n",
       "      <td>1</td>\n",
       "      <td>0</td>\n",
       "      <td>45000.0</td>\n",
       "      <td>715</td>\n",
       "      <td>69.4</td>\n",
       "      <td>9.2</td>\n",
       "      <td>87.03</td>\n",
       "      <td>0</td>\n",
       "      <td>0</td>\n",
       "      <td>0</td>\n",
       "    </tr>\n",
       "    <tr>\n",
       "      <th>4</th>\n",
       "      <td>1</td>\n",
       "      <td>29</td>\n",
       "      <td>-7</td>\n",
       "      <td>25</td>\n",
       "      <td>113</td>\n",
       "      <td>40367.06</td>\n",
       "      <td>24.925476</td>\n",
       "      <td>9.2</td>\n",
       "      <td>217.37</td>\n",
       "      <td>1.692969</td>\n",
       "      <td>...</td>\n",
       "      <td>1</td>\n",
       "      <td>0</td>\n",
       "      <td>45000.0</td>\n",
       "      <td>715</td>\n",
       "      <td>69.4</td>\n",
       "      <td>9.2</td>\n",
       "      <td>87.03</td>\n",
       "      <td>0</td>\n",
       "      <td>0</td>\n",
       "      <td>0</td>\n",
       "    </tr>\n",
       "  </tbody>\n",
       "</table>\n",
       "<p>5 rows × 23 columns</p>\n",
       "</div>"
      ],
      "text/plain": [
       "   id  time  orig_time  first_time  mat_time  balance_time   LTV_time  \\\n",
       "0   1    25         -7          25       113      41303.42  24.498336   \n",
       "1   1    26         -7          25       113      41061.95  24.483867   \n",
       "2   1    27         -7          25       113      40804.42  24.626795   \n",
       "3   1    28         -7          25       113      40483.89  24.735883   \n",
       "4   1    29         -7          25       113      40367.06  24.925476   \n",
       "\n",
       "   interest_rate_time  hpi_time  gdp_time  ...  REtype_SF_orig_time  \\\n",
       "0                 9.2    226.29  2.899137  ...                    1   \n",
       "1                 9.2    225.10  2.151365  ...                    1   \n",
       "2                 9.2    222.39  2.361722  ...                    1   \n",
       "3                 9.2    219.67  1.229172  ...                    1   \n",
       "4                 9.2    217.37  1.692969  ...                    1   \n",
       "\n",
       "   investor_orig_time  balance_orig_time  FICO_orig_time  LTV_orig_time  \\\n",
       "0                   0            45000.0             715           69.4   \n",
       "1                   0            45000.0             715           69.4   \n",
       "2                   0            45000.0             715           69.4   \n",
       "3                   0            45000.0             715           69.4   \n",
       "4                   0            45000.0             715           69.4   \n",
       "\n",
       "   Interest_Rate_orig_time  hpi_orig_time  default_time  payoff_time  \\\n",
       "0                      9.2          87.03             0            0   \n",
       "1                      9.2          87.03             0            0   \n",
       "2                      9.2          87.03             0            0   \n",
       "3                      9.2          87.03             0            0   \n",
       "4                      9.2          87.03             0            0   \n",
       "\n",
       "   status_time  \n",
       "0            0  \n",
       "1            0  \n",
       "2            0  \n",
       "3            0  \n",
       "4            0  \n",
       "\n",
       "[5 rows x 23 columns]"
      ]
     },
     "execution_count": 201,
     "metadata": {},
     "output_type": "execute_result"
    }
   ],
   "source": [
    "data.head(5)"
   ]
  },
  {
   "cell_type": "code",
   "execution_count": 202,
   "metadata": {},
   "outputs": [
    {
     "data": {
      "text/html": [
       "<div>\n",
       "<style scoped>\n",
       "    .dataframe tbody tr th:only-of-type {\n",
       "        vertical-align: middle;\n",
       "    }\n",
       "\n",
       "    .dataframe tbody tr th {\n",
       "        vertical-align: top;\n",
       "    }\n",
       "\n",
       "    .dataframe thead th {\n",
       "        text-align: right;\n",
       "    }\n",
       "</style>\n",
       "<table border=\"1\" class=\"dataframe\">\n",
       "  <thead>\n",
       "    <tr style=\"text-align: right;\">\n",
       "      <th></th>\n",
       "      <th>id</th>\n",
       "      <th>time</th>\n",
       "      <th>orig_time</th>\n",
       "      <th>first_time</th>\n",
       "      <th>mat_time</th>\n",
       "      <th>balance_time</th>\n",
       "      <th>LTV_time</th>\n",
       "      <th>interest_rate_time</th>\n",
       "      <th>hpi_time</th>\n",
       "      <th>gdp_time</th>\n",
       "      <th>...</th>\n",
       "      <th>REtype_SF_orig_time</th>\n",
       "      <th>investor_orig_time</th>\n",
       "      <th>balance_orig_time</th>\n",
       "      <th>FICO_orig_time</th>\n",
       "      <th>LTV_orig_time</th>\n",
       "      <th>Interest_Rate_orig_time</th>\n",
       "      <th>hpi_orig_time</th>\n",
       "      <th>default_time</th>\n",
       "      <th>payoff_time</th>\n",
       "      <th>status_time</th>\n",
       "    </tr>\n",
       "  </thead>\n",
       "  <tbody>\n",
       "    <tr>\n",
       "      <th>count</th>\n",
       "      <td>622489.000000</td>\n",
       "      <td>622489.000000</td>\n",
       "      <td>622489.000000</td>\n",
       "      <td>622489.000000</td>\n",
       "      <td>622489.000000</td>\n",
       "      <td>6.224890e+05</td>\n",
       "      <td>622219.000000</td>\n",
       "      <td>622489.000000</td>\n",
       "      <td>622489.00000</td>\n",
       "      <td>622489.000000</td>\n",
       "      <td>...</td>\n",
       "      <td>622489.000000</td>\n",
       "      <td>622489.000000</td>\n",
       "      <td>6.224890e+05</td>\n",
       "      <td>622489.000000</td>\n",
       "      <td>622489.000000</td>\n",
       "      <td>622489.000000</td>\n",
       "      <td>622489.000000</td>\n",
       "      <td>622489.000000</td>\n",
       "      <td>622489.000000</td>\n",
       "      <td>622489.000000</td>\n",
       "    </tr>\n",
       "    <tr>\n",
       "      <th>mean</th>\n",
       "      <td>25147.492561</td>\n",
       "      <td>35.800806</td>\n",
       "      <td>20.570057</td>\n",
       "      <td>24.607362</td>\n",
       "      <td>137.206527</td>\n",
       "      <td>2.459649e+05</td>\n",
       "      <td>83.078239</td>\n",
       "      <td>6.702451</td>\n",
       "      <td>184.10245</td>\n",
       "      <td>1.381032</td>\n",
       "      <td>...</td>\n",
       "      <td>0.612067</td>\n",
       "      <td>0.138226</td>\n",
       "      <td>2.562539e+05</td>\n",
       "      <td>673.616922</td>\n",
       "      <td>78.975460</td>\n",
       "      <td>5.649546</td>\n",
       "      <td>198.115217</td>\n",
       "      <td>0.024351</td>\n",
       "      <td>0.042714</td>\n",
       "      <td>0.109779</td>\n",
       "    </tr>\n",
       "    <tr>\n",
       "      <th>std</th>\n",
       "      <td>13750.200051</td>\n",
       "      <td>11.579971</td>\n",
       "      <td>7.615170</td>\n",
       "      <td>6.739015</td>\n",
       "      <td>19.532501</td>\n",
       "      <td>2.141563e+05</td>\n",
       "      <td>24.968839</td>\n",
       "      <td>2.079246</td>\n",
       "      <td>27.65077</td>\n",
       "      <td>1.964645</td>\n",
       "      <td>...</td>\n",
       "      <td>0.487280</td>\n",
       "      <td>0.345137</td>\n",
       "      <td>2.197181e+05</td>\n",
       "      <td>71.724558</td>\n",
       "      <td>10.127052</td>\n",
       "      <td>2.978061</td>\n",
       "      <td>33.964785</td>\n",
       "      <td>0.154135</td>\n",
       "      <td>0.202212</td>\n",
       "      <td>0.427967</td>\n",
       "    </tr>\n",
       "    <tr>\n",
       "      <th>min</th>\n",
       "      <td>1.000000</td>\n",
       "      <td>1.000000</td>\n",
       "      <td>-40.000000</td>\n",
       "      <td>1.000000</td>\n",
       "      <td>18.000000</td>\n",
       "      <td>0.000000e+00</td>\n",
       "      <td>0.000000</td>\n",
       "      <td>0.000000</td>\n",
       "      <td>107.83000</td>\n",
       "      <td>-4.146711</td>\n",
       "      <td>...</td>\n",
       "      <td>0.000000</td>\n",
       "      <td>0.000000</td>\n",
       "      <td>0.000000e+00</td>\n",
       "      <td>400.000000</td>\n",
       "      <td>50.100000</td>\n",
       "      <td>0.000000</td>\n",
       "      <td>75.710000</td>\n",
       "      <td>0.000000</td>\n",
       "      <td>0.000000</td>\n",
       "      <td>0.000000</td>\n",
       "    </tr>\n",
       "    <tr>\n",
       "      <th>25%</th>\n",
       "      <td>13580.000000</td>\n",
       "      <td>27.000000</td>\n",
       "      <td>18.000000</td>\n",
       "      <td>21.000000</td>\n",
       "      <td>137.000000</td>\n",
       "      <td>1.020174e+05</td>\n",
       "      <td>67.109446</td>\n",
       "      <td>5.650000</td>\n",
       "      <td>158.60000</td>\n",
       "      <td>1.104163</td>\n",
       "      <td>...</td>\n",
       "      <td>0.000000</td>\n",
       "      <td>0.000000</td>\n",
       "      <td>1.080000e+05</td>\n",
       "      <td>626.000000</td>\n",
       "      <td>75.000000</td>\n",
       "      <td>5.000000</td>\n",
       "      <td>179.450000</td>\n",
       "      <td>0.000000</td>\n",
       "      <td>0.000000</td>\n",
       "      <td>0.000000</td>\n",
       "    </tr>\n",
       "    <tr>\n",
       "      <th>50%</th>\n",
       "      <td>24881.000000</td>\n",
       "      <td>34.000000</td>\n",
       "      <td>22.000000</td>\n",
       "      <td>25.000000</td>\n",
       "      <td>142.000000</td>\n",
       "      <td>1.806183e+05</td>\n",
       "      <td>82.253269</td>\n",
       "      <td>6.625000</td>\n",
       "      <td>180.52000</td>\n",
       "      <td>1.850689</td>\n",
       "      <td>...</td>\n",
       "      <td>1.000000</td>\n",
       "      <td>0.000000</td>\n",
       "      <td>1.880000e+05</td>\n",
       "      <td>678.000000</td>\n",
       "      <td>80.000000</td>\n",
       "      <td>6.290000</td>\n",
       "      <td>216.770000</td>\n",
       "      <td>0.000000</td>\n",
       "      <td>0.000000</td>\n",
       "      <td>0.000000</td>\n",
       "    </tr>\n",
       "    <tr>\n",
       "      <th>75%</th>\n",
       "      <td>37045.000000</td>\n",
       "      <td>44.000000</td>\n",
       "      <td>25.000000</td>\n",
       "      <td>28.000000</td>\n",
       "      <td>145.000000</td>\n",
       "      <td>3.374950e+05</td>\n",
       "      <td>100.634381</td>\n",
       "      <td>7.875000</td>\n",
       "      <td>212.73000</td>\n",
       "      <td>2.694111</td>\n",
       "      <td>...</td>\n",
       "      <td>1.000000</td>\n",
       "      <td>0.000000</td>\n",
       "      <td>3.520000e+05</td>\n",
       "      <td>729.000000</td>\n",
       "      <td>80.000000</td>\n",
       "      <td>7.456000</td>\n",
       "      <td>222.390000</td>\n",
       "      <td>0.000000</td>\n",
       "      <td>0.000000</td>\n",
       "      <td>0.000000</td>\n",
       "    </tr>\n",
       "    <tr>\n",
       "      <th>max</th>\n",
       "      <td>50000.000000</td>\n",
       "      <td>60.000000</td>\n",
       "      <td>60.000000</td>\n",
       "      <td>60.000000</td>\n",
       "      <td>229.000000</td>\n",
       "      <td>8.701859e+06</td>\n",
       "      <td>803.513550</td>\n",
       "      <td>37.500000</td>\n",
       "      <td>226.29000</td>\n",
       "      <td>5.132464</td>\n",
       "      <td>...</td>\n",
       "      <td>1.000000</td>\n",
       "      <td>1.000000</td>\n",
       "      <td>8.000000e+06</td>\n",
       "      <td>840.000000</td>\n",
       "      <td>218.500000</td>\n",
       "      <td>19.750000</td>\n",
       "      <td>226.290000</td>\n",
       "      <td>1.000000</td>\n",
       "      <td>1.000000</td>\n",
       "      <td>2.000000</td>\n",
       "    </tr>\n",
       "  </tbody>\n",
       "</table>\n",
       "<p>8 rows × 23 columns</p>\n",
       "</div>"
      ],
      "text/plain": [
       "                  id           time      orig_time     first_time  \\\n",
       "count  622489.000000  622489.000000  622489.000000  622489.000000   \n",
       "mean    25147.492561      35.800806      20.570057      24.607362   \n",
       "std     13750.200051      11.579971       7.615170       6.739015   \n",
       "min         1.000000       1.000000     -40.000000       1.000000   \n",
       "25%     13580.000000      27.000000      18.000000      21.000000   \n",
       "50%     24881.000000      34.000000      22.000000      25.000000   \n",
       "75%     37045.000000      44.000000      25.000000      28.000000   \n",
       "max     50000.000000      60.000000      60.000000      60.000000   \n",
       "\n",
       "            mat_time  balance_time       LTV_time  interest_rate_time  \\\n",
       "count  622489.000000  6.224890e+05  622219.000000       622489.000000   \n",
       "mean      137.206527  2.459649e+05      83.078239            6.702451   \n",
       "std        19.532501  2.141563e+05      24.968839            2.079246   \n",
       "min        18.000000  0.000000e+00       0.000000            0.000000   \n",
       "25%       137.000000  1.020174e+05      67.109446            5.650000   \n",
       "50%       142.000000  1.806183e+05      82.253269            6.625000   \n",
       "75%       145.000000  3.374950e+05     100.634381            7.875000   \n",
       "max       229.000000  8.701859e+06     803.513550           37.500000   \n",
       "\n",
       "           hpi_time       gdp_time  ...  REtype_SF_orig_time  \\\n",
       "count  622489.00000  622489.000000  ...        622489.000000   \n",
       "mean      184.10245       1.381032  ...             0.612067   \n",
       "std        27.65077       1.964645  ...             0.487280   \n",
       "min       107.83000      -4.146711  ...             0.000000   \n",
       "25%       158.60000       1.104163  ...             0.000000   \n",
       "50%       180.52000       1.850689  ...             1.000000   \n",
       "75%       212.73000       2.694111  ...             1.000000   \n",
       "max       226.29000       5.132464  ...             1.000000   \n",
       "\n",
       "       investor_orig_time  balance_orig_time  FICO_orig_time  LTV_orig_time  \\\n",
       "count       622489.000000       6.224890e+05   622489.000000  622489.000000   \n",
       "mean             0.138226       2.562539e+05      673.616922      78.975460   \n",
       "std              0.345137       2.197181e+05       71.724558      10.127052   \n",
       "min              0.000000       0.000000e+00      400.000000      50.100000   \n",
       "25%              0.000000       1.080000e+05      626.000000      75.000000   \n",
       "50%              0.000000       1.880000e+05      678.000000      80.000000   \n",
       "75%              0.000000       3.520000e+05      729.000000      80.000000   \n",
       "max              1.000000       8.000000e+06      840.000000     218.500000   \n",
       "\n",
       "       Interest_Rate_orig_time  hpi_orig_time   default_time    payoff_time  \\\n",
       "count            622489.000000  622489.000000  622489.000000  622489.000000   \n",
       "mean                  5.649546     198.115217       0.024351       0.042714   \n",
       "std                   2.978061      33.964785       0.154135       0.202212   \n",
       "min                   0.000000      75.710000       0.000000       0.000000   \n",
       "25%                   5.000000     179.450000       0.000000       0.000000   \n",
       "50%                   6.290000     216.770000       0.000000       0.000000   \n",
       "75%                   7.456000     222.390000       0.000000       0.000000   \n",
       "max                  19.750000     226.290000       1.000000       1.000000   \n",
       "\n",
       "         status_time  \n",
       "count  622489.000000  \n",
       "mean        0.109779  \n",
       "std         0.427967  \n",
       "min         0.000000  \n",
       "25%         0.000000  \n",
       "50%         0.000000  \n",
       "75%         0.000000  \n",
       "max         2.000000  \n",
       "\n",
       "[8 rows x 23 columns]"
      ]
     },
     "execution_count": 202,
     "metadata": {},
     "output_type": "execute_result"
    }
   ],
   "source": [
    "data.describe()"
   ]
  },
  {
   "cell_type": "markdown",
   "metadata": {},
   "source": [
    "#### Check for the null values"
   ]
  },
  {
   "cell_type": "code",
   "execution_count": 203,
   "metadata": {},
   "outputs": [
    {
     "data": {
      "text/plain": [
       "id                           0\n",
       "time                         0\n",
       "orig_time                    0\n",
       "first_time                   0\n",
       "mat_time                     0\n",
       "balance_time                 0\n",
       "LTV_time                   270\n",
       "interest_rate_time           0\n",
       "hpi_time                     0\n",
       "gdp_time                     0\n",
       "uer_time                     0\n",
       "REtype_CO_orig_time          0\n",
       "REtype_PU_orig_time          0\n",
       "REtype_SF_orig_time          0\n",
       "investor_orig_time           0\n",
       "balance_orig_time            0\n",
       "FICO_orig_time               0\n",
       "LTV_orig_time                0\n",
       "Interest_Rate_orig_time      0\n",
       "hpi_orig_time                0\n",
       "default_time                 0\n",
       "payoff_time                  0\n",
       "status_time                  0\n",
       "dtype: int64"
      ]
     },
     "execution_count": 203,
     "metadata": {},
     "output_type": "execute_result"
    }
   ],
   "source": [
    "data.isna().sum()"
   ]
  },
  {
   "cell_type": "markdown",
   "metadata": {},
   "source": [
    "##### There are 270 NA values in LTV_Time which is loan to value ratio at observation time, in %.\n",
    "- Replace the NA vlaue with the mean"
   ]
  },
  {
   "cell_type": "code",
   "execution_count": 204,
   "metadata": {},
   "outputs": [],
   "source": [
    "data['LTV_time'] = data['LTV_time'].fillna(data['LTV_time'].median())"
   ]
  },
  {
   "cell_type": "markdown",
   "metadata": {},
   "source": [
    "##### Check for the NA values"
   ]
  },
  {
   "cell_type": "code",
   "execution_count": 205,
   "metadata": {},
   "outputs": [
    {
     "data": {
      "text/plain": [
       "0"
      ]
     },
     "execution_count": 205,
     "metadata": {},
     "output_type": "execute_result"
    }
   ],
   "source": [
    "data.isna().sum().sum()"
   ]
  },
  {
   "cell_type": "markdown",
   "metadata": {},
   "source": [
    "#### Convert Episodic Data to Static Data"
   ]
  },
  {
   "cell_type": "code",
   "execution_count": 206,
   "metadata": {},
   "outputs": [
    {
     "data": {
      "text/plain": [
       "(50000, 23)"
      ]
     },
     "execution_count": 206,
     "metadata": {},
     "output_type": "execute_result"
    }
   ],
   "source": [
    "data_static = data.groupby(\"id\").agg(np.max).reset_index()\n",
    "data_static.shape"
   ]
  },
  {
   "cell_type": "code",
   "execution_count": 207,
   "metadata": {},
   "outputs": [
    {
     "data": {
      "text/plain": [
       "<AxesSubplot:ylabel='status_time'>"
      ]
     },
     "execution_count": 207,
     "metadata": {},
     "output_type": "execute_result"
    },
    {
     "data": {
      "image/png": "[encoded data removed]",
      "text/plain": [
       "<Figure size 360x576 with 1 Axes>"
      ]
     },
     "metadata": {},
     "output_type": "display_data"
    }
   ],
   "source": [
    "# display number of defaults\n",
    "data_static[\"status_time\"].value_counts().plot.pie(autopct='%.2f%%', figsize=(5,8))"
   ]
  },
  {
   "cell_type": "markdown",
   "metadata": {},
   "source": [
    "#### Evaluating whether the time to default for borrowers with low outstanding balance at origination time (30% quantile) significantly differs from borrowers with Average/High outstanding balance at origination time."
   ]
  },
  {
   "cell_type": "code",
   "execution_count": 208,
   "metadata": {},
   "outputs": [],
   "source": [
    "data_static['balance_orig_time'].quantile(0.3)\n",
    "data_static['Balance_Low'] = 1\n",
    "data_static.loc[(data_static['balance_orig_time'] > data_static['balance_orig_time'].quantile(0.3)),'Balance_Low'] = 0"
   ]
  },
  {
   "cell_type": "markdown",
   "metadata": {},
   "source": [
    "#### Lifeline Plotting"
   ]
  },
  {
   "cell_type": "code",
   "execution_count": 170,
   "metadata": {},
   "outputs": [
    {
     "data": {
      "image/png": "[encoded data removed]",
      "text/plain": [
       "<Figure size 432x288 with 1 Axes>"
      ]
     },
     "metadata": {
      "needs_background": "light"
     },
     "output_type": "display_data"
    }
   ],
   "source": [
    "from lifelines.plotting import plot_lifetimes\n",
    "\n",
    "data_samp = data_static.sample(20)\n",
    "ax = plot_lifetimes(data_samp[\"time\"], event_observed=data_samp[\"Balance_Low\"])\n",
    "ax.set_xlabel(\"Time\")\n",
    "ax.set_title(\"Time to default\")\n",
    "plt.show()"
   ]
  },
  {
   "cell_type": "markdown",
   "metadata": {},
   "source": [
    "## Kaplan Meier Fitter"
   ]
  },
  {
   "cell_type": "markdown",
   "metadata": {},
   "source": [
    "##### The Kaplan-Meier estimator (also known as the product-limit estimator, you will see why later on) is a non-parametric technique of estimating and plotting the survival probability as a function of time. It is often the first step in carrying out the survival analysis, as it is the simplest approach and requires the least assumptions. To carry out the analysis using the Kaplan-Meier approach, we assume the following:\n",
    "\n",
    "- The event of interest is unambiguous and happens at a clearly specified time.\n",
    "- The survival probability of all observations is the same, it does not matter exactly when they have entered the study.\n",
    "- Censored observations have the same survival prospects as observations that continue to be followed.\n",
    "##### In real-life cases, we never know the true survival function. That is why with the Kaplan-Meier estimator, we approximate the true survival function from the collected data."
   ]
  },
  {
   "cell_type": "code",
   "execution_count": 173,
   "metadata": {},
   "outputs": [
    {
     "data": {
      "image/png": "[encoded data removed]",
      "text/plain": [
       "<Figure size 576x360 with 2 Axes>"
      ]
     },
     "metadata": {
      "needs_background": "light"
     },
     "output_type": "display_data"
    }
   ],
   "source": [
    "from lifelines import KaplanMeierFitter\n",
    "\n",
    "kmf = KaplanMeierFitter()\n",
    "# fit on static data: TIME indicates the last observed timestep, TARGET indicates whether the customer defaulted\n",
    "kmf.fit(data_static['time'], data_static['Balance_Low'], label='Kaplan Meier Estimator')\n",
    "\n",
    "# plot survival function\n",
    "ax = kmf.plot_survival_function(at_risk_counts=True,figsize=(8,5))\n",
    "ax.set_ylabel('Probability of non-default')\n",
    "plt.show()"
   ]
  },
  {
   "cell_type": "markdown",
   "metadata": {},
   "source": [
    "#### Checking the median default time"
   ]
  },
  {
   "cell_type": "code",
   "execution_count": 175,
   "metadata": {},
   "outputs": [
    {
     "name": "stdout",
     "output_type": "stream",
     "text": [
      "31.0\n"
     ]
    },
    {
     "name": "stderr",
     "output_type": "stream",
     "text": [
      "C:\\Users\\aghoslya\\AppData\\Local\\Temp/ipykernel_26064/578304161.py:8: UserWarning: color is redundantly defined by the 'color' keyword argument and the fmt string \"k-\" (-> color='k'). The keyword argument will take precedence.\n",
      "  plt.plot([median_default, median_default], [0,1], 'k-', c=\"red\")\n"
     ]
    },
    {
     "data": {
      "image/png": "[encoded data removed]",
      "text/plain": [
       "<Figure size 576x360 with 2 Axes>"
      ]
     },
     "metadata": {
      "needs_background": "light"
     },
     "output_type": "display_data"
    }
   ],
   "source": [
    "# Median default_time?\n",
    "median_default = data_static.query(\"Balance_Low==1\")[\"time\"].median()\n",
    "print(median_default)\n",
    "\n",
    "# add to plot\n",
    "ax = kmf.plot_survival_function(at_risk_counts=True,figsize=(8,5))\n",
    "ax.set_ylabel('Probability of non-default')\n",
    "plt.plot([median_default, median_default], [0,1], 'k-', c=\"red\")\n",
    "plt.show()"
   ]
  },
  {
   "cell_type": "markdown",
   "metadata": {},
   "source": [
    "#### Event Table"
   ]
  },
  {
   "cell_type": "code",
   "execution_count": 176,
   "metadata": {},
   "outputs": [
    {
     "data": {
      "text/html": [
       "<div>\n",
       "<style scoped>\n",
       "    .dataframe tbody tr th:only-of-type {\n",
       "        vertical-align: middle;\n",
       "    }\n",
       "\n",
       "    .dataframe tbody tr th {\n",
       "        vertical-align: top;\n",
       "    }\n",
       "\n",
       "    .dataframe thead th {\n",
       "        text-align: right;\n",
       "    }\n",
       "</style>\n",
       "<table border=\"1\" class=\"dataframe\">\n",
       "  <thead>\n",
       "    <tr style=\"text-align: right;\">\n",
       "      <th></th>\n",
       "      <th>removed</th>\n",
       "      <th>observed</th>\n",
       "      <th>censored</th>\n",
       "      <th>entrance</th>\n",
       "      <th>at_risk</th>\n",
       "    </tr>\n",
       "    <tr>\n",
       "      <th>event_at</th>\n",
       "      <th></th>\n",
       "      <th></th>\n",
       "      <th></th>\n",
       "      <th></th>\n",
       "      <th></th>\n",
       "    </tr>\n",
       "  </thead>\n",
       "  <tbody>\n",
       "    <tr>\n",
       "      <th>0.0</th>\n",
       "      <td>0</td>\n",
       "      <td>0</td>\n",
       "      <td>0</td>\n",
       "      <td>50000</td>\n",
       "      <td>50000</td>\n",
       "    </tr>\n",
       "    <tr>\n",
       "      <th>1.0</th>\n",
       "      <td>22</td>\n",
       "      <td>15</td>\n",
       "      <td>7</td>\n",
       "      <td>0</td>\n",
       "      <td>50000</td>\n",
       "    </tr>\n",
       "    <tr>\n",
       "      <th>2.0</th>\n",
       "      <td>37</td>\n",
       "      <td>25</td>\n",
       "      <td>12</td>\n",
       "      <td>0</td>\n",
       "      <td>49978</td>\n",
       "    </tr>\n",
       "    <tr>\n",
       "      <th>3.0</th>\n",
       "      <td>57</td>\n",
       "      <td>44</td>\n",
       "      <td>13</td>\n",
       "      <td>0</td>\n",
       "      <td>49941</td>\n",
       "    </tr>\n",
       "    <tr>\n",
       "      <th>4.0</th>\n",
       "      <td>56</td>\n",
       "      <td>39</td>\n",
       "      <td>17</td>\n",
       "      <td>0</td>\n",
       "      <td>49884</td>\n",
       "    </tr>\n",
       "    <tr>\n",
       "      <th>...</th>\n",
       "      <td>...</td>\n",
       "      <td>...</td>\n",
       "      <td>...</td>\n",
       "      <td>...</td>\n",
       "      <td>...</td>\n",
       "    </tr>\n",
       "    <tr>\n",
       "      <th>56.0</th>\n",
       "      <td>223</td>\n",
       "      <td>70</td>\n",
       "      <td>153</td>\n",
       "      <td>0</td>\n",
       "      <td>8996</td>\n",
       "    </tr>\n",
       "    <tr>\n",
       "      <th>57.0</th>\n",
       "      <td>231</td>\n",
       "      <td>61</td>\n",
       "      <td>170</td>\n",
       "      <td>0</td>\n",
       "      <td>8773</td>\n",
       "    </tr>\n",
       "    <tr>\n",
       "      <th>58.0</th>\n",
       "      <td>245</td>\n",
       "      <td>93</td>\n",
       "      <td>152</td>\n",
       "      <td>0</td>\n",
       "      <td>8542</td>\n",
       "    </tr>\n",
       "    <tr>\n",
       "      <th>59.0</th>\n",
       "      <td>293</td>\n",
       "      <td>89</td>\n",
       "      <td>204</td>\n",
       "      <td>0</td>\n",
       "      <td>8297</td>\n",
       "    </tr>\n",
       "    <tr>\n",
       "      <th>60.0</th>\n",
       "      <td>8004</td>\n",
       "      <td>2849</td>\n",
       "      <td>5155</td>\n",
       "      <td>0</td>\n",
       "      <td>8004</td>\n",
       "    </tr>\n",
       "  </tbody>\n",
       "</table>\n",
       "<p>61 rows × 5 columns</p>\n",
       "</div>"
      ],
      "text/plain": [
       "          removed  observed  censored  entrance  at_risk\n",
       "event_at                                                \n",
       "0.0             0         0         0     50000    50000\n",
       "1.0            22        15         7         0    50000\n",
       "2.0            37        25        12         0    49978\n",
       "3.0            57        44        13         0    49941\n",
       "4.0            56        39        17         0    49884\n",
       "...           ...       ...       ...       ...      ...\n",
       "56.0          223        70       153         0     8996\n",
       "57.0          231        61       170         0     8773\n",
       "58.0          245        93       152         0     8542\n",
       "59.0          293        89       204         0     8297\n",
       "60.0         8004      2849      5155         0     8004\n",
       "\n",
       "[61 rows x 5 columns]"
      ]
     },
     "execution_count": 176,
     "metadata": {},
     "output_type": "execute_result"
    }
   ],
   "source": [
    "kmf.event_table"
   ]
  },
  {
   "cell_type": "code",
   "execution_count": 210,
   "metadata": {},
   "outputs": [
    {
     "name": "stdout",
     "output_type": "stream",
     "text": [
      "0.33685423428403505\n",
      "0.0886000653504091\n"
     ]
    }
   ],
   "source": [
    "# \"predict\" probability to default at time 50\n",
    "\n",
    "# 1 - probability of non-default at time 50\n",
    "print(1 - kmf.predict(50))\n",
    "\n",
    "# 1 - probability of non-default at time 25\n",
    "print(1 - kmf.predict(25))"
   ]
  },
  {
   "cell_type": "markdown",
   "metadata": {},
   "source": [
    "#### Cummulative Hazard Function \n",
    "  - Measures the total amount of risk that has been accumulated up to a certain point of time t. \n",
    "  - Provides the number of times we would mathematically expect the occurrence of the event of interest over a certain period if only the  events were repeatable."
   ]
  },
  {
   "cell_type": "markdown",
   "metadata": {},
   "source": [
    "#### Plotting the cumulative hazard function"
   ]
  },
  {
   "cell_type": "code",
   "execution_count": 177,
   "metadata": {},
   "outputs": [
    {
     "data": {
      "text/plain": [
       "<AxesSubplot:xlabel='timeline'>"
      ]
     },
     "execution_count": 177,
     "metadata": {},
     "output_type": "execute_result"
    },
    {
     "data": {
      "image/png": "[encoded data removed]",
      "text/plain": [
       "<Figure size 432x288 with 1 Axes>"
      ]
     },
     "metadata": {
      "needs_background": "light"
     },
     "output_type": "display_data"
    }
   ],
   "source": [
    "kmf.plot_cumulative_density()"
   ]
  },
  {
   "cell_type": "markdown",
   "metadata": {},
   "source": [
    "#### Analysis"
   ]
  },
  {
   "cell_type": "code",
   "execution_count": 179,
   "metadata": {},
   "outputs": [
    {
     "data": {
      "text/plain": [
       "<AxesSubplot:ylabel='Balance_Low'>"
      ]
     },
     "execution_count": 179,
     "metadata": {},
     "output_type": "execute_result"
    },
    {
     "data": {
      "image/png": "[encoded data removed]",
      "text/plain": [
       "<Figure size 360x576 with 1 Axes>"
      ]
     },
     "metadata": {},
     "output_type": "display_data"
    }
   ],
   "source": [
    "# display pie chart gender\n",
    "data_static[\"Balance_Low\"].value_counts().plot.pie(autopct='%.2f%%', figsize=(5,8))"
   ]
  },
  {
   "cell_type": "markdown",
   "metadata": {},
   "source": [
    "#### Comparing the 2 Groups"
   ]
  },
  {
   "cell_type": "code",
   "execution_count": 180,
   "metadata": {},
   "outputs": [
    {
     "data": {
      "image/png": "[encoded data removed]",
      "text/plain": [
       "<Figure size 504x432 with 2 Axes>"
      ]
     },
     "metadata": {
      "needs_background": "light"
     },
     "output_type": "display_data"
    }
   ],
   "source": [
    "# Compare two groups\n",
    "\n",
    "kmf1 = KaplanMeierFitter()\n",
    "kmf2 = KaplanMeierFitter()\n",
    "\n",
    "fig, ax = plt.subplots(1,1 , figsize=(7,6))\n",
    "\n",
    "# subset data\n",
    "df1 = data_static.loc[data_static[\"Balance_Low\"] == 1,:]\n",
    "df2 = data_static.loc[data_static[\"Balance_Low\"] == 0,:]\n",
    "\n",
    "# fit subset gender = male\n",
    "ax = kmf1.fit(df1['time'], df1['Balance_Low'], label='1').plot_survival_function(ax=ax)\n",
    "\n",
    "# fit subset gender = female\n",
    "ax = kmf2.fit(df2['time'], df2['Balance_Low'], label='0').plot_survival_function(ax=ax)\n",
    "\n",
    "from lifelines.plotting import add_at_risk_counts\n",
    "add_at_risk_counts(kmf1, kmf2, ax=ax)\n",
    "plt.tight_layout()"
   ]
  },
  {
   "cell_type": "markdown",
   "metadata": {},
   "source": [
    "#### Log Rank \n",
    "- The logrank test statistic compares estimates of the hazard functions of the two groups at each observed event time. It is constructed by computing the observed and expected number of events in one of the groups at each observed event time and then adding these to obtain an overall summary across all-time points where there is an event. "
   ]
  },
  {
   "cell_type": "code",
   "execution_count": 182,
   "metadata": {},
   "outputs": [
    {
     "data": {
      "text/html": [
       "<div>\n",
       "<style scoped>\n",
       "    .dataframe tbody tr th:only-of-type {\n",
       "        vertical-align: middle;\n",
       "    }\n",
       "\n",
       "    .dataframe tbody tr th {\n",
       "        vertical-align: top;\n",
       "    }\n",
       "\n",
       "    .dataframe thead th {\n",
       "        text-align: right;\n",
       "    }\n",
       "</style>\n",
       "<table border=\"1\" class=\"dataframe\">\n",
       "  <thead>\n",
       "    <tr style=\"text-align: right;\">\n",
       "      <th></th>\n",
       "      <th>test_statistic</th>\n",
       "      <th>p</th>\n",
       "      <th>-log2(p)</th>\n",
       "    </tr>\n",
       "  </thead>\n",
       "  <tbody>\n",
       "    <tr>\n",
       "      <th>0</th>\n",
       "      <td>37151.577469</td>\n",
       "      <td>0.0</td>\n",
       "      <td>inf</td>\n",
       "    </tr>\n",
       "  </tbody>\n",
       "</table>\n",
       "</div>"
      ],
      "text/plain": [
       "   test_statistic    p  -log2(p)\n",
       "0    37151.577469  0.0       inf"
      ]
     },
     "execution_count": 182,
     "metadata": {},
     "output_type": "execute_result"
    }
   ],
   "source": [
    "# Perform logrank test to assess whether there is a difference between Males and Females in time to default\n",
    "\n",
    "from lifelines.statistics import logrank_test\n",
    "\n",
    "# Null-Hypothesis: No difference between the two groups\n",
    "res = logrank_test(df1['time'], df2['time'], event_observed_A=df1['Balance_Low'],event_observed_B=df2['Balance_Low'])\n",
    "\n",
    "# We can reject the Null-Hypothesis (p < 0.05)\n",
    "res.summary "
   ]
  },
  {
   "cell_type": "markdown",
   "metadata": {},
   "source": [
    "#### - Cox Proportional Hazard model (time varying)"
   ]
  },
  {
   "cell_type": "markdown",
   "metadata": {},
   "source": [
    "- The Cox's Proportional Hazard Model is the most frequently used multi- variate analysis method for analysing survival time data. It is a regression model which describes the relationship between an event occurrence, ex- pressed as hazard function and a set of covariates."
   ]
  },
  {
   "cell_type": "code",
   "execution_count": 110,
   "metadata": {},
   "outputs": [
    {
     "data": {
      "text/plain": [
       "Index(['id', 'time', 'orig_time', 'first_time', 'mat_time', 'balance_time',\n",
       "       'LTV_time', 'interest_rate_time', 'hpi_time', 'gdp_time', 'uer_time',\n",
       "       'REtype_CO_orig_time', 'REtype_PU_orig_time', 'REtype_SF_orig_time',\n",
       "       'investor_orig_time', 'balance_orig_time', 'FICO_orig_time',\n",
       "       'LTV_orig_time', 'Interest_Rate_orig_time', 'hpi_orig_time',\n",
       "       'default_time', 'payoff_time', 'status_time', 'Low_balance'],\n",
       "      dtype='object')"
      ]
     },
     "execution_count": 110,
     "metadata": {},
     "output_type": "execute_result"
    }
   ],
   "source": [
    "data_static.columns"
   ]
  },
  {
   "cell_type": "markdown",
   "metadata": {},
   "source": [
    "#### - Exclude time varying variables"
   ]
  },
  {
   "cell_type": "code",
   "execution_count": 119,
   "metadata": {},
   "outputs": [],
   "source": [
    "data_sub = data_static[[\"id\", \"time\", \"default_time\", \"hpi_time\", \"gdp_time\", \"uer_time\", \"balance_time\",\n",
    "\"interest_rate_time\", \"FICO_orig_time\", \"LTV_time\", \"Low_balance\"]].set_index(\"id\")"
   ]
  },
  {
   "cell_type": "markdown",
   "metadata": {},
   "source": [
    "#### -  Assumption: time always starts at 0 (no interval censored data)"
   ]
  },
  {
   "cell_type": "code",
   "execution_count": 183,
   "metadata": {},
   "outputs": [],
   "source": [
    "data_sub[\"first_time\"] = 0"
   ]
  },
  {
   "cell_type": "code",
   "execution_count": 185,
   "metadata": {},
   "outputs": [],
   "source": [
    "data_sub['id'] = data_sub.index"
   ]
  },
  {
   "cell_type": "code",
   "execution_count": 186,
   "metadata": {},
   "outputs": [
    {
     "name": "stdout",
     "output_type": "stream",
     "text": [
      "Iteration 9: norm_delta = 0.00000, step_size = 1.00000, ll = -126412.63866, newton_decrement = 0.00000, seconds_since_start = 3.1Convergence completed after 9 iterations.\n"
     ]
    },
    {
     "data": {
      "text/html": [
       "<div>\n",
       "<style scoped>\n",
       "    .dataframe tbody tr th:only-of-type {\n",
       "        vertical-align: middle;\n",
       "    }\n",
       "\n",
       "    .dataframe tbody tr th {\n",
       "        vertical-align: top;\n",
       "    }\n",
       "\n",
       "    .dataframe thead th {\n",
       "        text-align: right;\n",
       "    }\n",
       "</style>\n",
       "<table border=\"1\" class=\"dataframe\">\n",
       "  <thead>\n",
       "    <tr style=\"text-align: right;\">\n",
       "      <th></th>\n",
       "      <th>coef</th>\n",
       "      <th>exp(coef)</th>\n",
       "      <th>se(coef)</th>\n",
       "      <th>coef lower 95%</th>\n",
       "      <th>coef upper 95%</th>\n",
       "      <th>exp(coef) lower 95%</th>\n",
       "      <th>exp(coef) upper 95%</th>\n",
       "      <th>cmp to</th>\n",
       "      <th>z</th>\n",
       "      <th>p</th>\n",
       "      <th>-log2(p)</th>\n",
       "    </tr>\n",
       "    <tr>\n",
       "      <th>covariate</th>\n",
       "      <th></th>\n",
       "      <th></th>\n",
       "      <th></th>\n",
       "      <th></th>\n",
       "      <th></th>\n",
       "      <th></th>\n",
       "      <th></th>\n",
       "      <th></th>\n",
       "      <th></th>\n",
       "      <th></th>\n",
       "      <th></th>\n",
       "    </tr>\n",
       "  </thead>\n",
       "  <tbody>\n",
       "    <tr>\n",
       "      <th>default_time</th>\n",
       "      <td>0.458467</td>\n",
       "      <td>1.581648</td>\n",
       "      <td>2.072664e-02</td>\n",
       "      <td>0.417844</td>\n",
       "      <td>0.499091</td>\n",
       "      <td>1.518684</td>\n",
       "      <td>1.647223</td>\n",
       "      <td>0.0</td>\n",
       "      <td>22.119720</td>\n",
       "      <td>2.041931e-108</td>\n",
       "      <td>357.738300</td>\n",
       "    </tr>\n",
       "    <tr>\n",
       "      <th>hpi_time</th>\n",
       "      <td>-0.015452</td>\n",
       "      <td>0.984667</td>\n",
       "      <td>6.017710e-04</td>\n",
       "      <td>-0.016631</td>\n",
       "      <td>-0.014272</td>\n",
       "      <td>0.983507</td>\n",
       "      <td>0.985829</td>\n",
       "      <td>0.0</td>\n",
       "      <td>-25.676827</td>\n",
       "      <td>2.121726e-145</td>\n",
       "      <td>480.594335</td>\n",
       "    </tr>\n",
       "    <tr>\n",
       "      <th>gdp_time</th>\n",
       "      <td>1.162542</td>\n",
       "      <td>3.198054</td>\n",
       "      <td>1.682787e-02</td>\n",
       "      <td>1.129560</td>\n",
       "      <td>1.195524</td>\n",
       "      <td>3.094296</td>\n",
       "      <td>3.305291</td>\n",
       "      <td>0.0</td>\n",
       "      <td>69.084347</td>\n",
       "      <td>0.000000e+00</td>\n",
       "      <td>inf</td>\n",
       "    </tr>\n",
       "    <tr>\n",
       "      <th>uer_time</th>\n",
       "      <td>-0.715506</td>\n",
       "      <td>0.488945</td>\n",
       "      <td>7.047466e-03</td>\n",
       "      <td>-0.729319</td>\n",
       "      <td>-0.701693</td>\n",
       "      <td>0.482237</td>\n",
       "      <td>0.495745</td>\n",
       "      <td>0.0</td>\n",
       "      <td>-101.526689</td>\n",
       "      <td>0.000000e+00</td>\n",
       "      <td>inf</td>\n",
       "    </tr>\n",
       "    <tr>\n",
       "      <th>balance_time</th>\n",
       "      <td>-0.000020</td>\n",
       "      <td>0.999980</td>\n",
       "      <td>1.987050e-07</td>\n",
       "      <td>-0.000021</td>\n",
       "      <td>-0.000020</td>\n",
       "      <td>0.999979</td>\n",
       "      <td>0.999980</td>\n",
       "      <td>0.0</td>\n",
       "      <td>-101.944714</td>\n",
       "      <td>0.000000e+00</td>\n",
       "      <td>inf</td>\n",
       "    </tr>\n",
       "    <tr>\n",
       "      <th>interest_rate_time</th>\n",
       "      <td>0.018349</td>\n",
       "      <td>1.018518</td>\n",
       "      <td>3.309298e-03</td>\n",
       "      <td>0.011863</td>\n",
       "      <td>0.024835</td>\n",
       "      <td>1.011934</td>\n",
       "      <td>1.025146</td>\n",
       "      <td>0.0</td>\n",
       "      <td>5.544717</td>\n",
       "      <td>2.944305e-08</td>\n",
       "      <td>25.017497</td>\n",
       "    </tr>\n",
       "    <tr>\n",
       "      <th>FICO_orig_time</th>\n",
       "      <td>0.000221</td>\n",
       "      <td>1.000221</td>\n",
       "      <td>1.219057e-04</td>\n",
       "      <td>-0.000018</td>\n",
       "      <td>0.000460</td>\n",
       "      <td>0.999982</td>\n",
       "      <td>1.000460</td>\n",
       "      <td>0.0</td>\n",
       "      <td>1.811959</td>\n",
       "      <td>6.999251e-02</td>\n",
       "      <td>3.836656</td>\n",
       "    </tr>\n",
       "    <tr>\n",
       "      <th>LTV_time</th>\n",
       "      <td>0.011034</td>\n",
       "      <td>1.011095</td>\n",
       "      <td>3.696597e-04</td>\n",
       "      <td>0.010309</td>\n",
       "      <td>0.011758</td>\n",
       "      <td>1.010363</td>\n",
       "      <td>1.011828</td>\n",
       "      <td>0.0</td>\n",
       "      <td>29.848742</td>\n",
       "      <td>9.115061e-196</td>\n",
       "      <td>647.909654</td>\n",
       "    </tr>\n",
       "  </tbody>\n",
       "</table>\n",
       "</div>"
      ],
      "text/plain": [
       "                        coef  exp(coef)      se(coef)  coef lower 95%  \\\n",
       "covariate                                                               \n",
       "default_time        0.458467   1.581648  2.072664e-02        0.417844   \n",
       "hpi_time           -0.015452   0.984667  6.017710e-04       -0.016631   \n",
       "gdp_time            1.162542   3.198054  1.682787e-02        1.129560   \n",
       "uer_time           -0.715506   0.488945  7.047466e-03       -0.729319   \n",
       "balance_time       -0.000020   0.999980  1.987050e-07       -0.000021   \n",
       "interest_rate_time  0.018349   1.018518  3.309298e-03        0.011863   \n",
       "FICO_orig_time      0.000221   1.000221  1.219057e-04       -0.000018   \n",
       "LTV_time            0.011034   1.011095  3.696597e-04        0.010309   \n",
       "\n",
       "                    coef upper 95%  exp(coef) lower 95%  exp(coef) upper 95%  \\\n",
       "covariate                                                                      \n",
       "default_time              0.499091             1.518684             1.647223   \n",
       "hpi_time                 -0.014272             0.983507             0.985829   \n",
       "gdp_time                  1.195524             3.094296             3.305291   \n",
       "uer_time                 -0.701693             0.482237             0.495745   \n",
       "balance_time             -0.000020             0.999979             0.999980   \n",
       "interest_rate_time        0.024835             1.011934             1.025146   \n",
       "FICO_orig_time            0.000460             0.999982             1.000460   \n",
       "LTV_time                  0.011758             1.010363             1.011828   \n",
       "\n",
       "                    cmp to           z              p    -log2(p)  \n",
       "covariate                                                          \n",
       "default_time           0.0   22.119720  2.041931e-108  357.738300  \n",
       "hpi_time               0.0  -25.676827  2.121726e-145  480.594335  \n",
       "gdp_time               0.0   69.084347   0.000000e+00         inf  \n",
       "uer_time               0.0 -101.526689   0.000000e+00         inf  \n",
       "balance_time           0.0 -101.944714   0.000000e+00         inf  \n",
       "interest_rate_time     0.0    5.544717   2.944305e-08   25.017497  \n",
       "FICO_orig_time         0.0    1.811959   6.999251e-02    3.836656  \n",
       "LTV_time               0.0   29.848742  9.115061e-196  647.909654  "
      ]
     },
     "execution_count": 186,
     "metadata": {},
     "output_type": "execute_result"
    }
   ],
   "source": [
    "from lifelines import CoxTimeVaryingFitter\n",
    "\n",
    "# Note: credit_tv contains both time varying and static variables \n",
    "ctv = CoxTimeVaryingFitter()\n",
    "ctv.fit(data_sub, id_col=\"id\", event_col=\"Low_balance\", start_col=\"first_time\", stop_col=\"time\", show_progress=True)\n",
    "ctv.summary"
   ]
  },
  {
   "cell_type": "markdown",
   "metadata": {},
   "source": [
    "#### - Checking for the p values"
   ]
  },
  {
   "cell_type": "code",
   "execution_count": 187,
   "metadata": {},
   "outputs": [
    {
     "data": {
      "text/plain": [
       "covariate\n",
       "default_time          0.00\n",
       "hpi_time              0.00\n",
       "gdp_time              0.00\n",
       "uer_time              0.00\n",
       "balance_time          0.00\n",
       "interest_rate_time    0.00\n",
       "FICO_orig_time        0.07\n",
       "LTV_time              0.00\n",
       "Name: p, dtype: float64"
      ]
     },
     "execution_count": 187,
     "metadata": {},
     "output_type": "execute_result"
    }
   ],
   "source": [
    "round(ctv.summary['p'], 4)"
   ]
  },
  {
   "cell_type": "markdown",
   "metadata": {},
   "source": [
    "#### - Plot"
   ]
  },
  {
   "cell_type": "code",
   "execution_count": 188,
   "metadata": {},
   "outputs": [
    {
     "data": {
      "text/plain": [
       "<AxesSubplot:xlabel='log(HR) (95% CI)'>"
      ]
     },
     "execution_count": 188,
     "metadata": {},
     "output_type": "execute_result"
    },
    {
     "data": {
      "image/png": "[encoded data removed]",
      "text/plain": [
       "<Figure size 432x288 with 1 Axes>"
      ]
     },
     "metadata": {
      "needs_background": "light"
     },
     "output_type": "display_data"
    }
   ],
   "source": [
    "ctv.plot()"
   ]
  },
  {
   "cell_type": "markdown",
   "metadata": {},
   "source": [
    "#### Parameter Values"
   ]
  },
  {
   "cell_type": "code",
   "execution_count": 191,
   "metadata": {},
   "outputs": [
    {
     "name": "stdout",
     "output_type": "stream",
     "text": [
      "covariate\n",
      "default_time          0.458467\n",
      "hpi_time             -0.015452\n",
      "gdp_time              1.162542\n",
      "uer_time             -0.715506\n",
      "balance_time         -0.000020\n",
      "interest_rate_time    0.018349\n",
      "FICO_orig_time        0.000221\n",
      "LTV_time              0.011034\n",
      "dtype: float64\n"
     ]
    }
   ],
   "source": [
    "print(round(ctv.params_, 6))"
   ]
  },
  {
   "cell_type": "markdown",
   "metadata": {},
   "source": [
    "#### Conclusions:"
   ]
  },
  {
   "cell_type": "code",
   "execution_count": 211,
   "metadata": {},
   "outputs": [
    {
     "name": "stdout",
     "output_type": "stream",
     "text": [
      "\n",
      " An additional increase in Interest Rate with time could have led to increase the probability to Low Balance by 1.852%\n",
      "\n",
      " An additional increase in Unemployment Rate (due in the future) increase the probability to Low Balance by -51.106%\n",
      "\n",
      " An additional increase in GDP (due in the future) increase the probability to Low Balance by 219.805%\n"
     ]
    }
   ],
   "source": [
    "# Interpretation (under ceteris paribus assumption): \n",
    "print('\\n An additional increase in Interest Rate with time could have led to increase the probability to Low Balance by {:.3f}%'.format((np.exp(0.018349) - 1)*100))\n",
    "print('\\n An additional increase in Unemployment Rate (due in the future) increase the probability to Low Balance by {:.3f}%'.format((np.exp(-0.715506) - 1)*100))\n",
    "print('\\n An additional increase in GDP (due in the future) increase the probability to Low Balance by {:.3f}%'.format((np.exp(1.162542) - 1)*100))"
   ]
  },
  {
   "cell_type": "markdown",
   "metadata": {},
   "source": [
    "#### Plot"
   ]
  },
  {
   "cell_type": "code",
   "execution_count": 190,
   "metadata": {},
   "outputs": [
    {
     "data": {
      "text/plain": [
       "<AxesSubplot:>"
      ]
     },
     "execution_count": 190,
     "metadata": {},
     "output_type": "execute_result"
    },
    {
     "data": {
      "image/png": "[encoded data removed]",
      "text/plain": [
       "<Figure size 432x288 with 1 Axes>"
      ]
     },
     "metadata": {
      "needs_background": "light"
     },
     "output_type": "display_data"
    }
   ],
   "source": [
    "np.exp(ctv.baseline_cumulative_hazard_).plot()"
   ]
  },
  {
   "cell_type": "markdown",
   "metadata": {},
   "source": [
    "#### Refrences\n",
    "- https://towardsdatascience.com/survival-analysis-intuition-implementation-in-python-504fde4fcf8e\n",
    "- https://towardsdatascience.com/tagged/survival-analysis\n",
    "- Class Notes and Code"
   ]
  },
  {
   "cell_type": "code",
   "execution_count": null,
   "metadata": {},
   "outputs": [],
   "source": []
  }
 ],
 "metadata": {
  "interpreter": {
   "hash": "a707b6ce8c685eb936424fcc3009d4b4b7a52543c4db09380a3fc49186ceb509"
  },
  "kernelspec": {
   "display_name": "Python 3.8.8 ('base')",
   "language": "python",
   "name": "python3"
  },
  "language_info": {
   "codemirror_mode": {
    "name": "ipython",
    "version": 3
   },
   "file_extension": ".py",
   "mimetype": "text/x-python",
   "name": "python",
   "nbconvert_exporter": "python",
   "pygments_lexer": "ipython3",
   "version": "3.8.8"
  },
  "orig_nbformat": 4
 },
 "nbformat": 4,
 "nbformat_minor": 2
}
